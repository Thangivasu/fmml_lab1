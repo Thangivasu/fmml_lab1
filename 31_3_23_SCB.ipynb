{
  "nbformat": 4,
  "nbformat_minor": 0,
  "metadata": {
    "colab": {
      "provenance": [],
      "authorship_tag": "ABX9TyO1EM2Bg63jNr8Ldx3rsH09",
      "include_colab_link": true
    },
    "kernelspec": {
      "name": "python3",
      "display_name": "Python 3"
    },
    "language_info": {
      "name": "python"
    }
  },
  "cells": [
    {
      "cell_type": "markdown",
      "metadata": {
        "id": "view-in-github",
        "colab_type": "text"
      },
      "source": [
        "<a href=\"https://colab.research.google.com/github/Thangivasu/fmml_lab1/blob/main/31_3_23_SCB.ipynb\" target=\"_parent\"><img src=\"https://colab.research.google.com/assets/colab-badge.svg\" alt=\"Open In Colab\"/></a>"
      ]
    },
    {
      "cell_type": "code",
      "execution_count": 1,
      "metadata": {
        "colab": {
          "base_uri": "https://localhost:8080/"
        },
        "id": "dK1AD6EcDBU_",
        "outputId": "3e36368e-01f2-4070-c473-5d43858e9bdd"
      },
      "outputs": [
        {
          "output_type": "stream",
          "name": "stdout",
          "text": [
            "Array=  [5, 2, 3, 4, 1, 6, 7]\n",
            "Pairs whose sum is :  7\n",
            "5 2\n",
            "3 4\n",
            "1 6\n"
          ]
        }
      ],
      "source": [
        "def find(array, len, summ):\n",
        "    print(\"Pairs whose sum is : \", summ)\n",
        "    for i in range(len):\n",
        "        for j in range(i, len):\n",
        "            if (array[i] + array[j]) == summ:\n",
        "                print(array[i], array[j])\n",
        "\n",
        "\n",
        "array = [5, 2, 3, 4, 1, 6, 7]\n",
        "\n",
        "# Take sum as input from user\n",
        "summ = 7\n",
        "\n",
        "# print array\n",
        "print(\"Array= \", array)\n",
        "\n",
        "# call function find\n",
        "find(array, len(array), summ)"
      ]
    },
    {
      "cell_type": "code",
      "source": [
        "n = int(input(\"Enter the number of rows: \"))\n",
        "\n",
        "# Upper half of the diamond\n",
        "for i in range(1, n+1, 2):\n",
        "    print(\"-\"*((n-i)//2), end=\"\")\n",
        "    print(\"*\"*i, end=\"\")\n",
        "    print(\"-\"*((n-i)//2))\n",
        "\n",
        "# Lower half of the diamond\n",
        "for i in range(n-2, 0, -2):\n",
        "    print(\"-\"*((n-i)//2), end=\"\")\n",
        "    print(\"*\"*i, end=\"\")\n",
        "    print(\"-\"*((n-i)//2))"
      ],
      "metadata": {
        "colab": {
          "base_uri": "https://localhost:8080/"
        },
        "id": "gx_6Pr38E17W",
        "outputId": "3839cd3f-c646-4c6f-9c20-cab9f0405696"
      },
      "execution_count": 3,
      "outputs": [
        {
          "output_type": "stream",
          "name": "stdout",
          "text": [
            "Enter the number of rows: 9\n",
            "----*----\n",
            "---***---\n",
            "--*****--\n",
            "-*******-\n",
            "*********\n",
            "-*******-\n",
            "--*****--\n",
            "---***---\n",
            "----*----\n"
          ]
        }
      ]
    },
    {
      "cell_type": "code",
      "source": [
        "a=int(input())\n",
        "b=[]\n",
        "for i in range(a):\n",
        "  c=int(input())\n",
        "  b.append(c)\n",
        "  k=[]\n",
        "  l=0\n",
        "  for i in range(len(b)):\n",
        "    if b[i]!=0:\n",
        "      k.append(b[i])\n",
        "  else:\n",
        "        l=l+1\n",
        "  for i in range(l):\n",
        "        k.append(0)\n",
        "        print(k)"
      ],
      "metadata": {
        "colab": {
          "base_uri": "https://localhost:8080/"
        },
        "id": "Jmmx2hH4ILml",
        "outputId": "18265b19-4b1c-4fa2-9e09-c356a2d08bd7"
      },
      "execution_count": null,
      "outputs": [
        {
          "output_type": "stream",
          "name": "stdout",
          "text": [
            "55\n",
            "57\n",
            "[57, 0]\n",
            "43\n",
            "[57, 43, 0]\n",
            "55\n",
            "[57, 43, 55, 0]\n",
            "88\n",
            "[57, 43, 55, 88, 0]\n",
            "77\n",
            "[57, 43, 55, 88, 77, 0]\n",
            "66\n",
            "[57, 43, 55, 88, 77, 66, 0]\n"
          ]
        }
      ]
    },
    {
      "cell_type": "code",
      "source": [
        "L=list(map(int,input('Enter the orders : ').split(' ')))# or you can get the N value and get the input using for loop\n",
        "L1=[]\n",
        "temp=0\n",
        "for i in L:\n",
        "    if i!=0:\n",
        "        L1.append(i)\n",
        "    else:\n",
        "        temp+=1\n",
        "\n",
        "if temp!=0:\n",
        "    for i in range(temp):\n",
        "        L1.append(0)\n",
        "print(L1)"
      ],
      "metadata": {
        "id": "i88yxDKqJpAs"
      },
      "execution_count": null,
      "outputs": []
    },
    {
      "cell_type": "code",
      "source": [
        "n=int(input())\n",
        "for i in range(1,n+1):\n",
        "  for j in range(1,n-i+1):\n",
        "    print(\" \",end=\" \")\n",
        "    for k in range(1,2*i):\n",
        "      if i%2==1:\n",
        "        print(\"*\",end=\" \")\n",
        "        else:\n",
        "          print(\"-\",end=\" \")\n",
        "          print()\n",
        "          for i in range(n-1,0,-1):\n",
        "            for j in range(1,n-i+1):\n",
        "              print(\" \",end =\" \")\n",
        "              for k in range(1,2*i):\n",
        "                if i%2==1:\n",
        "                  print(\"*\",end=\" \")\n",
        "                  else:\n",
        "                    print(\"-\",end=\" \")\n",
        "                    print()\n"
      ],
      "metadata": {
        "id": "iI8YlC2QLeFh"
      },
      "execution_count": null,
      "outputs": []
    }
  ]
}