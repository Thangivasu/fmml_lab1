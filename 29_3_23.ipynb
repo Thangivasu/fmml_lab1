{
  "nbformat": 4,
  "nbformat_minor": 0,
  "metadata": {
    "colab": {
      "provenance": [],
      "authorship_tag": "ABX9TyNQtR4kb7Cs6wHjEVCOCHoY",
      "include_colab_link": true
    },
    "kernelspec": {
      "name": "python3",
      "display_name": "Python 3"
    },
    "language_info": {
      "name": "python"
    }
  },
  "cells": [
    {
      "cell_type": "markdown",
      "metadata": {
        "id": "view-in-github",
        "colab_type": "text"
      },
      "source": [
        "<a href=\"https://colab.research.google.com/github/Thangivasu/fmml_lab1/blob/main/29_3_23.ipynb\" target=\"_parent\"><img src=\"https://colab.research.google.com/assets/colab-badge.svg\" alt=\"Open In Colab\"/></a>"
      ]
    },
    {
      "cell_type": "code",
      "execution_count": 15,
      "metadata": {
        "id": "_KaHQ55Ns36N"
      },
      "outputs": [],
      "source": [
        "def factorial(n):\n",
        "    return n * factorial(n - 1) if n > 1 else 1\n",
        "    def factorial(n):\n",
        "      if n > 1:\n",
        "        return n * factorial(n - 1)\n",
        "      else:\n",
        "        return 1"
      ]
    },
    {
      "cell_type": "code",
      "source": [
        "def pascals_triangle(n):\n",
        "    triangle = [[1]]\n",
        "    for i in range(1, n):\n",
        "        row = [1]\n",
        "        for j in range(1, i):\n",
        "            row.append(triangle[i-1][j-1] + triangle[i-1][j])\n",
        "        row.append(1)\n",
        "        triangle.append(row)\n",
        "    return triangle\n",
        "\n",
        "def print_pascals_triangle(n):\n",
        "    triangle = pascals_triangle(n)\n",
        "    width = len(str(triangle[-1][-1]))\n",
        "    for row in triangle:\n",
        "        print(\" \".join(str(num).center(width) for num in row))\n",
        "\n",
        "print_pascals_triangle(7)\n",
        "\n",
        "\n",
        "\n",
        "\n",
        "\n"
      ],
      "metadata": {
        "colab": {
          "base_uri": "https://localhost:8080/"
        },
        "id": "VKJ66ENvughP",
        "outputId": "397f6da2-5974-41ef-9b59-8f7b56e96de8"
      },
      "execution_count": 12,
      "outputs": [
        {
          "output_type": "stream",
          "name": "stdout",
          "text": [
            "1\n",
            "1 1\n",
            "1 2 1\n",
            "1 3 3 1\n",
            "1 4 6 4 1\n",
            "1 5 10 10 5 1\n",
            "1 6 15 20 15 6 1\n"
          ]
        }
      ]
    },
    {
      "cell_type": "code",
      "source": [
        "def rhombus_type_1(n):\n",
        "    for i in range(1, n+1):\n",
        "        print(\" \"*(n-i) + \"* \"*(i))\n",
        "\n",
        "    for i in range(n-1, 0, -1):\n",
        "        print(\" \"*(n-i) + \"* \"*(i))\n",
        "        \n",
        "rhombus_type_1(15)"
      ],
      "metadata": {
        "colab": {
          "base_uri": "https://localhost:8080/"
        },
        "id": "fMdNj082xEty",
        "outputId": "a1106873-1fc0-4f06-f90c-4a936738ec1a"
      },
      "execution_count": 27,
      "outputs": [
        {
          "output_type": "stream",
          "name": "stdout",
          "text": [
            "              * \n",
            "             * * \n",
            "            * * * \n",
            "           * * * * \n",
            "          * * * * * \n",
            "         * * * * * * \n",
            "        * * * * * * * \n",
            "       * * * * * * * * \n",
            "      * * * * * * * * * \n",
            "     * * * * * * * * * * \n",
            "    * * * * * * * * * * * \n",
            "   * * * * * * * * * * * * \n",
            "  * * * * * * * * * * * * * \n",
            " * * * * * * * * * * * * * * \n",
            "* * * * * * * * * * * * * * * \n",
            " * * * * * * * * * * * * * * \n",
            "  * * * * * * * * * * * * * \n",
            "   * * * * * * * * * * * * \n",
            "    * * * * * * * * * * * \n",
            "     * * * * * * * * * * \n",
            "      * * * * * * * * * \n",
            "       * * * * * * * * \n",
            "        * * * * * * * \n",
            "         * * * * * * \n",
            "          * * * * * \n",
            "           * * * * \n",
            "            * * * \n",
            "             * * \n",
            "              * \n"
          ]
        }
      ]
    },
    {
      "cell_type": "code",
      "source": [
        "n = 4\n",
        "for i in range(n):\n",
        "    print(\" \"*(n-i-1) + \"*\"*(2*i+1))\n",
        "for i in range(n-2, -1, -1):\n",
        "    print(\" \"*(n-i-1) + \"*\"*(2*i+1))"
      ],
      "metadata": {
        "colab": {
          "base_uri": "https://localhost:8080/"
        },
        "id": "TamrLSgUyjiT",
        "outputId": "322e3c9a-22a6-4652-d946-6a7e975101cf"
      },
      "execution_count": 24,
      "outputs": [
        {
          "output_type": "stream",
          "name": "stdout",
          "text": [
            "   *\n",
            "  ***\n",
            " *****\n",
            "*******\n",
            " *****\n",
            "  ***\n",
            "   *\n"
          ]
        }
      ]
    },
    {
      "cell_type": "code",
      "source": [
        "n = 9\n",
        "for i in range(n):\n",
        "    print(\" \"*(n-i-1) + \"*\"*(2*i+1))\n",
        "for i in range(n-2, -1, -1):\n",
        "    print(\" \"*(n-i-1) + \"*\"*(2*i+1))"
      ],
      "metadata": {
        "colab": {
          "base_uri": "https://localhost:8080/"
        },
        "id": "pDICUrvdzAwy",
        "outputId": "d3aaa49a-726b-4046-d596-7a59c3c5eb17"
      },
      "execution_count": 28,
      "outputs": [
        {
          "output_type": "stream",
          "name": "stdout",
          "text": [
            "        *\n",
            "       ***\n",
            "      *****\n",
            "     *******\n",
            "    *********\n",
            "   ***********\n",
            "  *************\n",
            " ***************\n",
            "*****************\n",
            " ***************\n",
            "  *************\n",
            "   ***********\n",
            "    *********\n",
            "     *******\n",
            "      *****\n",
            "       ***\n",
            "        *\n"
          ]
        }
      ]
    }
  ]
}