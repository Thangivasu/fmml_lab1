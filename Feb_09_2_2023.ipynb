{
  "nbformat": 4,
  "nbformat_minor": 0,
  "metadata": {
    "colab": {
      "provenance": [],
      "authorship_tag": "ABX9TyOghn77ax4jJFbHMxBxW00G",
      "include_colab_link": true
    },
    "kernelspec": {
      "name": "python3",
      "display_name": "Python 3"
    },
    "language_info": {
      "name": "python"
    }
  },
  "cells": [
    {
      "cell_type": "markdown",
      "metadata": {
        "id": "view-in-github",
        "colab_type": "text"
      },
      "source": [
        "<a href=\"https://colab.research.google.com/github/Thangivasu/fmml_lab1/blob/main/Feb_09_2_2023.ipynb\" target=\"_parent\"><img src=\"https://colab.research.google.com/assets/colab-badge.svg\" alt=\"Open In Colab\"/></a>"
      ]
    },
    {
      "cell_type": "code",
      "execution_count": null,
      "metadata": {
        "id": "RamrDvyAgNhA"
      },
      "outputs": [],
      "source": [
        "def calculate_balance(x, y):\n",
        "    if (x % 5 != 0) or (x + 0.50 > y):\n",
        "        return y\n",
        "    else:\n",
        "        return y - (x + 0.50)\n",
        "\n",
        "x = int(input(\"Enter the amount of cash that Pooja wishes to withdraw: \"))\n",
        "y = float(input(\"Enter Pooja's initial account balance: \"))\n",
        "\n",
        "balance = calculate_balance(x, y)\n",
        "\n",
        "print(\"Pooja's account balance after the attempted transaction is: %.2f\" % balance)"
      ]
    },
    {
      "cell_type": "code",
      "source": [
        "def solve(a, b):\n",
        "    if a >= 13 and a <= 19 or b >= 13 and b <= 19:\n",
        "        return 40\n",
        "    else:\n",
        "        return a + b\n",
        "\n",
        "# Get input from user\n",
        "a, b = map(int, input().split())\n",
        "\n",
        "# Print the number of chocolates\n",
        "print(solve(a, b))"
      ],
      "metadata": {
        "id": "BbHwZ-h1hA59"
      },
      "execution_count": null,
      "outputs": []
    },
    {
      "cell_type": "code",
      "source": [
        "def solve(a, b):\n",
        "    if a == b:\n",
        "        return 0\n",
        "    if a % 6 == b % 6:\n",
        "        return min(a,b)\n",
        "    else:\n",
        "        return max(a,b)\n",
        "\n",
        "# Get input from user\n",
        "a, b = map(int, input().split())\n",
        "\n",
        "# Print the number of chocolates\n",
        "print(solve(a, b))"
      ],
      "metadata": {
        "id": "mmy1vC-ChAMY"
      },
      "execution_count": null,
      "outputs": []
    },
    {
      "cell_type": "code",
      "source": [
        "def solve(chocolates, weekend):\n",
        "    return True if weekend else 20 <= chocolates <= 40\n",
        "\n",
        "print(solve(30,False))"
      ],
      "metadata": {
        "id": "P9xT6-uAiImf"
      },
      "execution_count": null,
      "outputs": []
    },
    {
      "cell_type": "code",
      "source": [
        "n = (input(\"enter a string\"))\n",
        "if n[0] == 'f' and n[-1] == \"b\":\n",
        "    print(\"FizzBuzz\")\n",
        "elif n[0] == 'f':\n",
        "    print(\"Fizz\")\n",
        "elif n[-1] == 'b':\n",
        "    print(\"Buzz\")\n",
        "else:\n",
        "    print(n)"
      ],
      "metadata": {
        "id": "VH0Mm1t6iNk_"
      },
      "execution_count": null,
      "outputs": []
    },
    {
      "cell_type": "code",
      "source": [
        "n = int(input(\"enter a number: \"))\n",
        "if n%13 == 0 or n%13 == 1:\n",
        "    print(\"Crazy\")\n",
        "else:\n",
        "    print(\"NotCrazy\")"
      ],
      "metadata": {
        "id": "jschI1rniN9B"
      },
      "execution_count": null,
      "outputs": []
    },
    {
      "cell_type": "code",
      "source": [],
      "metadata": {
        "id": "kmarDolmiQp6"
      },
      "execution_count": null,
      "outputs": []
    }
  ]
}