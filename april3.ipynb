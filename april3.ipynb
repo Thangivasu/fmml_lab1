{
  "nbformat": 4,
  "nbformat_minor": 0,
  "metadata": {
    "colab": {
      "provenance": [],
      "include_colab_link": true
    },
    "kernelspec": {
      "name": "python3",
      "display_name": "Python 3"
    },
    "language_info": {
      "name": "python"
    }
  },
  "cells": [
    {
      "cell_type": "markdown",
      "metadata": {
        "id": "view-in-github",
        "colab_type": "text"
      },
      "source": [
        "<a href=\"https://colab.research.google.com/github/Thangivasu/fmml_lab1/blob/main/april3.ipynb\" target=\"_parent\"><img src=\"https://colab.research.google.com/assets/colab-badge.svg\" alt=\"Open In Colab\"/></a>"
      ]
    },
    {
      "cell_type": "markdown",
      "source": [
        "RANDOM FOREST"
      ],
      "metadata": {
        "id": "MP_suMzH7RQI"
      }
    },
    {
      "cell_type": "code",
      "source": [
        "import pandas as pd\n",
        "import numpy as np\n",
        "import matplotlib.pyplot as plt"
      ],
      "metadata": {
        "id": "1MoZ8GCo7VNS"
      },
      "execution_count": 1,
      "outputs": []
    },
    {
      "cell_type": "code",
      "source": [
        "data = pd.read_csv('/content/KOTAKBANK.csv')"
      ],
      "metadata": {
        "id": "D-tkyYc8IiQE"
      },
      "execution_count": 2,
      "outputs": []
    },
    {
      "cell_type": "code",
      "source": [
        "data.head()"
      ],
      "metadata": {
        "colab": {
          "base_uri": "https://localhost:8080/",
          "height": 374
        },
        "id": "gDCCtrfMImrA",
        "outputId": "3db08158-37ab-4d73-ed5e-eec8d5b4e7a3"
      },
      "execution_count": 13,
      "outputs": [
        {
          "output_type": "execute_result",
          "data": {
            "text/plain": [
              "         Date    Symbol Series  Prev Close   Open    High     Low    Last  \\\n",
              "0  2000-01-03  KOTAKMAH     EQ      212.35  220.0  229.35  220.00  229.35   \n",
              "1  2000-01-04  KOTAKMAH     EQ      229.35  247.7  247.70  225.25  247.70   \n",
              "2  2000-01-05  KOTAKMAH     EQ      246.95  229.0  240.00  227.20  228.00   \n",
              "3  2000-01-06  KOTAKMAH     EQ      228.40  235.1  239.00  217.00  224.95   \n",
              "4  2000-01-07  KOTAKMAH     EQ      225.90  213.0  219.00  207.85  207.85   \n",
              "\n",
              "    Close    VWAP  Volume      Turnover  Trades  Deliverable Volume  \\\n",
              "0  229.35  229.13    7086  1.623640e+11     NaN                 NaN   \n",
              "1  246.95  244.12   73681  1.798729e+12     NaN                 NaN   \n",
              "2  228.40  233.75  105799  2.473093e+12     NaN                 NaN   \n",
              "3  225.90  226.84   40202  9.119546e+11     NaN                 NaN   \n",
              "4  208.85  209.94   24463  5.135747e+11     NaN                 NaN   \n",
              "\n",
              "   %Deliverble  \n",
              "0          NaN  \n",
              "1          NaN  \n",
              "2          NaN  \n",
              "3          NaN  \n",
              "4          NaN  "
            ],
            "text/html": [
              "\n",
              "  <div id=\"df-bf19a2b2-2758-4afe-99e8-de9f91f0e93e\">\n",
              "    <div class=\"colab-df-container\">\n",
              "      <div>\n",
              "<style scoped>\n",
              "    .dataframe tbody tr th:only-of-type {\n",
              "        vertical-align: middle;\n",
              "    }\n",
              "\n",
              "    .dataframe tbody tr th {\n",
              "        vertical-align: top;\n",
              "    }\n",
              "\n",
              "    .dataframe thead th {\n",
              "        text-align: right;\n",
              "    }\n",
              "</style>\n",
              "<table border=\"1\" class=\"dataframe\">\n",
              "  <thead>\n",
              "    <tr style=\"text-align: right;\">\n",
              "      <th></th>\n",
              "      <th>Date</th>\n",
              "      <th>Symbol</th>\n",
              "      <th>Series</th>\n",
              "      <th>Prev Close</th>\n",
              "      <th>Open</th>\n",
              "      <th>High</th>\n",
              "      <th>Low</th>\n",
              "      <th>Last</th>\n",
              "      <th>Close</th>\n",
              "      <th>VWAP</th>\n",
              "      <th>Volume</th>\n",
              "      <th>Turnover</th>\n",
              "      <th>Trades</th>\n",
              "      <th>Deliverable Volume</th>\n",
              "      <th>%Deliverble</th>\n",
              "    </tr>\n",
              "  </thead>\n",
              "  <tbody>\n",
              "    <tr>\n",
              "      <th>0</th>\n",
              "      <td>2000-01-03</td>\n",
              "      <td>KOTAKMAH</td>\n",
              "      <td>EQ</td>\n",
              "      <td>212.35</td>\n",
              "      <td>220.0</td>\n",
              "      <td>229.35</td>\n",
              "      <td>220.00</td>\n",
              "      <td>229.35</td>\n",
              "      <td>229.35</td>\n",
              "      <td>229.13</td>\n",
              "      <td>7086</td>\n",
              "      <td>1.623640e+11</td>\n",
              "      <td>NaN</td>\n",
              "      <td>NaN</td>\n",
              "      <td>NaN</td>\n",
              "    </tr>\n",
              "    <tr>\n",
              "      <th>1</th>\n",
              "      <td>2000-01-04</td>\n",
              "      <td>KOTAKMAH</td>\n",
              "      <td>EQ</td>\n",
              "      <td>229.35</td>\n",
              "      <td>247.7</td>\n",
              "      <td>247.70</td>\n",
              "      <td>225.25</td>\n",
              "      <td>247.70</td>\n",
              "      <td>246.95</td>\n",
              "      <td>244.12</td>\n",
              "      <td>73681</td>\n",
              "      <td>1.798729e+12</td>\n",
              "      <td>NaN</td>\n",
              "      <td>NaN</td>\n",
              "      <td>NaN</td>\n",
              "    </tr>\n",
              "    <tr>\n",
              "      <th>2</th>\n",
              "      <td>2000-01-05</td>\n",
              "      <td>KOTAKMAH</td>\n",
              "      <td>EQ</td>\n",
              "      <td>246.95</td>\n",
              "      <td>229.0</td>\n",
              "      <td>240.00</td>\n",
              "      <td>227.20</td>\n",
              "      <td>228.00</td>\n",
              "      <td>228.40</td>\n",
              "      <td>233.75</td>\n",
              "      <td>105799</td>\n",
              "      <td>2.473093e+12</td>\n",
              "      <td>NaN</td>\n",
              "      <td>NaN</td>\n",
              "      <td>NaN</td>\n",
              "    </tr>\n",
              "    <tr>\n",
              "      <th>3</th>\n",
              "      <td>2000-01-06</td>\n",
              "      <td>KOTAKMAH</td>\n",
              "      <td>EQ</td>\n",
              "      <td>228.40</td>\n",
              "      <td>235.1</td>\n",
              "      <td>239.00</td>\n",
              "      <td>217.00</td>\n",
              "      <td>224.95</td>\n",
              "      <td>225.90</td>\n",
              "      <td>226.84</td>\n",
              "      <td>40202</td>\n",
              "      <td>9.119546e+11</td>\n",
              "      <td>NaN</td>\n",
              "      <td>NaN</td>\n",
              "      <td>NaN</td>\n",
              "    </tr>\n",
              "    <tr>\n",
              "      <th>4</th>\n",
              "      <td>2000-01-07</td>\n",
              "      <td>KOTAKMAH</td>\n",
              "      <td>EQ</td>\n",
              "      <td>225.90</td>\n",
              "      <td>213.0</td>\n",
              "      <td>219.00</td>\n",
              "      <td>207.85</td>\n",
              "      <td>207.85</td>\n",
              "      <td>208.85</td>\n",
              "      <td>209.94</td>\n",
              "      <td>24463</td>\n",
              "      <td>5.135747e+11</td>\n",
              "      <td>NaN</td>\n",
              "      <td>NaN</td>\n",
              "      <td>NaN</td>\n",
              "    </tr>\n",
              "  </tbody>\n",
              "</table>\n",
              "</div>\n",
              "      <button class=\"colab-df-convert\" onclick=\"convertToInteractive('df-bf19a2b2-2758-4afe-99e8-de9f91f0e93e')\"\n",
              "              title=\"Convert this dataframe to an interactive table.\"\n",
              "              style=\"display:none;\">\n",
              "        \n",
              "  <svg xmlns=\"http://www.w3.org/2000/svg\" height=\"24px\"viewBox=\"0 0 24 24\"\n",
              "       width=\"24px\">\n",
              "    <path d=\"M0 0h24v24H0V0z\" fill=\"none\"/>\n",
              "    <path d=\"M18.56 5.44l.94 2.06.94-2.06 2.06-.94-2.06-.94-.94-2.06-.94 2.06-2.06.94zm-11 1L8.5 8.5l.94-2.06 2.06-.94-2.06-.94L8.5 2.5l-.94 2.06-2.06.94zm10 10l.94 2.06.94-2.06 2.06-.94-2.06-.94-.94-2.06-.94 2.06-2.06.94z\"/><path d=\"M17.41 7.96l-1.37-1.37c-.4-.4-.92-.59-1.43-.59-.52 0-1.04.2-1.43.59L10.3 9.45l-7.72 7.72c-.78.78-.78 2.05 0 2.83L4 21.41c.39.39.9.59 1.41.59.51 0 1.02-.2 1.41-.59l7.78-7.78 2.81-2.81c.8-.78.8-2.07 0-2.86zM5.41 20L4 18.59l7.72-7.72 1.47 1.35L5.41 20z\"/>\n",
              "  </svg>\n",
              "      </button>\n",
              "      \n",
              "  <style>\n",
              "    .colab-df-container {\n",
              "      display:flex;\n",
              "      flex-wrap:wrap;\n",
              "      gap: 12px;\n",
              "    }\n",
              "\n",
              "    .colab-df-convert {\n",
              "      background-color: #E8F0FE;\n",
              "      border: none;\n",
              "      border-radius: 50%;\n",
              "      cursor: pointer;\n",
              "      display: none;\n",
              "      fill: #1967D2;\n",
              "      height: 32px;\n",
              "      padding: 0 0 0 0;\n",
              "      width: 32px;\n",
              "    }\n",
              "\n",
              "    .colab-df-convert:hover {\n",
              "      background-color: #E2EBFA;\n",
              "      box-shadow: 0px 1px 2px rgba(60, 64, 67, 0.3), 0px 1px 3px 1px rgba(60, 64, 67, 0.15);\n",
              "      fill: #174EA6;\n",
              "    }\n",
              "\n",
              "    [theme=dark] .colab-df-convert {\n",
              "      background-color: #3B4455;\n",
              "      fill: #D2E3FC;\n",
              "    }\n",
              "\n",
              "    [theme=dark] .colab-df-convert:hover {\n",
              "      background-color: #434B5C;\n",
              "      box-shadow: 0px 1px 3px 1px rgba(0, 0, 0, 0.15);\n",
              "      filter: drop-shadow(0px 1px 2px rgba(0, 0, 0, 0.3));\n",
              "      fill: #FFFFFF;\n",
              "    }\n",
              "  </style>\n",
              "\n",
              "      <script>\n",
              "        const buttonEl =\n",
              "          document.querySelector('#df-bf19a2b2-2758-4afe-99e8-de9f91f0e93e button.colab-df-convert');\n",
              "        buttonEl.style.display =\n",
              "          google.colab.kernel.accessAllowed ? 'block' : 'none';\n",
              "\n",
              "        async function convertToInteractive(key) {\n",
              "          const element = document.querySelector('#df-bf19a2b2-2758-4afe-99e8-de9f91f0e93e');\n",
              "          const dataTable =\n",
              "            await google.colab.kernel.invokeFunction('convertToInteractive',\n",
              "                                                     [key], {});\n",
              "          if (!dataTable) return;\n",
              "\n",
              "          const docLinkHtml = 'Like what you see? Visit the ' +\n",
              "            '<a target=\"_blank\" href=https://colab.research.google.com/notebooks/data_table.ipynb>data table notebook</a>'\n",
              "            + ' to learn more about interactive tables.';\n",
              "          element.innerHTML = '';\n",
              "          dataTable['output_type'] = 'display_data';\n",
              "          await google.colab.output.renderOutput(dataTable, element);\n",
              "          const docLink = document.createElement('div');\n",
              "          docLink.innerHTML = docLinkHtml;\n",
              "          element.appendChild(docLink);\n",
              "        }\n",
              "      </script>\n",
              "    </div>\n",
              "  </div>\n",
              "  "
            ]
          },
          "metadata": {},
          "execution_count": 13
        }
      ]
    },
    {
      "cell_type": "code",
      "source": [
        "data.shape"
      ],
      "metadata": {
        "colab": {
          "base_uri": "https://localhost:8080/"
        },
        "id": "T8XmRgXAIsTX",
        "outputId": "189794ef-55e9-445d-b066-9ba78fe11926"
      },
      "execution_count": 14,
      "outputs": [
        {
          "output_type": "execute_result",
          "data": {
            "text/plain": [
              "(4985, 15)"
            ]
          },
          "metadata": {},
          "execution_count": 14
        }
      ]
    },
    {
      "cell_type": "code",
      "source": [
        "data.info()"
      ],
      "metadata": {
        "colab": {
          "base_uri": "https://localhost:8080/"
        },
        "id": "RtwBLE1gIz8Q",
        "outputId": "fe01dbea-32c5-4191-9ecd-b8015161ec6d"
      },
      "execution_count": 15,
      "outputs": [
        {
          "output_type": "stream",
          "name": "stdout",
          "text": [
            "<class 'pandas.core.frame.DataFrame'>\n",
            "RangeIndex: 4985 entries, 0 to 4984\n",
            "Data columns (total 15 columns):\n",
            " #   Column              Non-Null Count  Dtype  \n",
            "---  ------              --------------  -----  \n",
            " 0   Date                4985 non-null   object \n",
            " 1   Symbol              4985 non-null   object \n",
            " 2   Series              4985 non-null   object \n",
            " 3   Prev Close          4985 non-null   float64\n",
            " 4   Open                4985 non-null   float64\n",
            " 5   High                4985 non-null   float64\n",
            " 6   Low                 4985 non-null   float64\n",
            " 7   Last                4985 non-null   float64\n",
            " 8   Close               4985 non-null   float64\n",
            " 9   VWAP                4985 non-null   float64\n",
            " 10  Volume              4985 non-null   int64  \n",
            " 11  Turnover            4985 non-null   float64\n",
            " 12  Trades              2456 non-null   float64\n",
            " 13  Deliverable Volume  4789 non-null   float64\n",
            " 14  %Deliverble         4789 non-null   float64\n",
            "dtypes: float64(11), int64(1), object(3)\n",
            "memory usage: 584.3+ KB\n"
          ]
        }
      ]
    },
    {
      "cell_type": "code",
      "source": [
        "data.isnull().sum()"
      ],
      "metadata": {
        "colab": {
          "base_uri": "https://localhost:8080/"
        },
        "id": "vYCAvaCnI1zY",
        "outputId": "2ecea49e-eaa5-4bf7-f9f4-50df1b9b935a"
      },
      "execution_count": 16,
      "outputs": [
        {
          "output_type": "execute_result",
          "data": {
            "text/plain": [
              "Date                     0\n",
              "Symbol                   0\n",
              "Series                   0\n",
              "Prev Close               0\n",
              "Open                     0\n",
              "High                     0\n",
              "Low                      0\n",
              "Last                     0\n",
              "Close                    0\n",
              "VWAP                     0\n",
              "Volume                   0\n",
              "Turnover                 0\n",
              "Trades                2529\n",
              "Deliverable Volume     196\n",
              "%Deliverble            196\n",
              "dtype: int64"
            ]
          },
          "metadata": {},
          "execution_count": 16
        }
      ]
    },
    {
      "cell_type": "code",
      "source": [
        "print(data.High)"
      ],
      "metadata": {
        "colab": {
          "base_uri": "https://localhost:8080/"
        },
        "id": "OkXW1ElUI7Se",
        "outputId": "870a7fd8-1588-4968-b049-4ae81d81cf78"
      },
      "execution_count": 29,
      "outputs": [
        {
          "output_type": "stream",
          "name": "stdout",
          "text": [
            "0        229.35\n",
            "1        247.70\n",
            "2        240.00\n",
            "3        239.00\n",
            "4        219.00\n",
            "         ...   \n",
            "4980    1783.00\n",
            "4981    1762.60\n",
            "4982    1824.00\n",
            "4983    1845.45\n",
            "4984    1802.00\n",
            "Name: High, Length: 4985, dtype: float64\n"
          ]
        }
      ]
    },
    {
      "cell_type": "code",
      "source": [
        "print(data.Low)"
      ],
      "metadata": {
        "colab": {
          "base_uri": "https://localhost:8080/"
        },
        "id": "fZ6-xhLUJBgw",
        "outputId": "e64a53c0-4058-480d-dd4e-e2dcd416a35b"
      },
      "execution_count": 31,
      "outputs": [
        {
          "output_type": "stream",
          "name": "stdout",
          "text": [
            "0        220.00\n",
            "1        225.25\n",
            "2        227.20\n",
            "3        217.00\n",
            "4        207.85\n",
            "         ...   \n",
            "4980    1733.30\n",
            "4981    1724.55\n",
            "4982    1754.00\n",
            "4983    1780.55\n",
            "4984    1739.45\n",
            "Name: Low, Length: 4985, dtype: float64\n"
          ]
        }
      ]
    },
    {
      "cell_type": "code",
      "source": [
        "x = data['High'].values\n",
        "y = data['Low'].values"
      ],
      "metadata": {
        "id": "XVRAgywZJFzG"
      },
      "execution_count": 32,
      "outputs": []
    },
    {
      "cell_type": "code",
      "source": [
        "plt.scatter(x,y, color='blue',label='scatter plot')\n",
        "plt.title('KOTAKMAH')\n",
        "plt.xlabel('High')\n",
        "plt.ylabel('Low')\n",
        "plt.legend(loc=8)\n",
        "plt.show()"
      ],
      "metadata": {
        "colab": {
          "base_uri": "https://localhost:8080/",
          "height": 472
        },
        "id": "lkNTr-D7JJV1",
        "outputId": "1f7b9a24-d703-49c8-cdbd-ee2bb8d80aa9"
      },
      "execution_count": 39,
      "outputs": [
        {
          "output_type": "display_data",
          "data": {
            "text/plain": [
              "<Figure size 640x480 with 1 Axes>"
            ],
            "image/png": "[encoded data removed]"
          },
          "metadata": {}
        }
      ]
    },
    {
      "cell_type": "code",
      "source": [],
      "metadata": {
        "id": "tb7gevMEqssL"
      },
      "execution_count": null,
      "outputs": []
    }
  ]
}